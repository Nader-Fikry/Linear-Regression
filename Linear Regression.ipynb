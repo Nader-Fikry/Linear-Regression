{
 "cells": [
  {
   "cell_type": "markdown",
   "metadata": {},
   "source": [
    "# Linear Regression.\n",
    "---\n",
    "Here we will implement Linear Regression from scratch, we will use a dataset consists of 1300+ records containing a person's medical data and the target is the \"charge\" column.  \n",
    "The goal is to predict the charge for the new persons using the Linear Regression model.  \n",
    "This dataset can be downloaded from [here](https://www.kaggle.com/mirichoi0218/insurance).   \n"
   ]
  },
  {
   "cell_type": "markdown",
   "metadata": {},
   "source": [
    "# The imports."
   ]
  },
  {
   "cell_type": "code",
   "execution_count": 5,
   "metadata": {},
   "outputs": [],
   "source": [
    "import pandas as pd\n",
    "import numpy as np\n",
    "from sklearn.preprocessing import LabelEncoder\n",
    "from sklearn.model_selection import train_test_split"
   ]
  },
  {
   "cell_type": "markdown",
   "metadata": {},
   "source": [
    "# Load the data."
   ]
  },
  {
   "cell_type": "code",
   "execution_count": 6,
   "metadata": {},
   "outputs": [
    {
     "data": {
      "text/html": [
       "<div>\n",
       "<style scoped>\n",
       "    .dataframe tbody tr th:only-of-type {\n",
       "        vertical-align: middle;\n",
       "    }\n",
       "\n",
       "    .dataframe tbody tr th {\n",
       "        vertical-align: top;\n",
       "    }\n",
       "\n",
       "    .dataframe thead th {\n",
       "        text-align: right;\n",
       "    }\n",
       "</style>\n",
       "<table border=\"1\" class=\"dataframe\">\n",
       "  <thead>\n",
       "    <tr style=\"text-align: right;\">\n",
       "      <th></th>\n",
       "      <th>age</th>\n",
       "      <th>sex</th>\n",
       "      <th>bmi</th>\n",
       "      <th>children</th>\n",
       "      <th>smoker</th>\n",
       "      <th>region</th>\n",
       "      <th>charges</th>\n",
       "    </tr>\n",
       "  </thead>\n",
       "  <tbody>\n",
       "    <tr>\n",
       "      <th>0</th>\n",
       "      <td>19</td>\n",
       "      <td>female</td>\n",
       "      <td>27.900</td>\n",
       "      <td>0</td>\n",
       "      <td>yes</td>\n",
       "      <td>southwest</td>\n",
       "      <td>16884.92400</td>\n",
       "    </tr>\n",
       "    <tr>\n",
       "      <th>1</th>\n",
       "      <td>18</td>\n",
       "      <td>male</td>\n",
       "      <td>33.770</td>\n",
       "      <td>1</td>\n",
       "      <td>no</td>\n",
       "      <td>southeast</td>\n",
       "      <td>1725.55230</td>\n",
       "    </tr>\n",
       "    <tr>\n",
       "      <th>2</th>\n",
       "      <td>28</td>\n",
       "      <td>male</td>\n",
       "      <td>33.000</td>\n",
       "      <td>3</td>\n",
       "      <td>no</td>\n",
       "      <td>southeast</td>\n",
       "      <td>4449.46200</td>\n",
       "    </tr>\n",
       "    <tr>\n",
       "      <th>3</th>\n",
       "      <td>33</td>\n",
       "      <td>male</td>\n",
       "      <td>22.705</td>\n",
       "      <td>0</td>\n",
       "      <td>no</td>\n",
       "      <td>northwest</td>\n",
       "      <td>21984.47061</td>\n",
       "    </tr>\n",
       "    <tr>\n",
       "      <th>4</th>\n",
       "      <td>32</td>\n",
       "      <td>male</td>\n",
       "      <td>28.880</td>\n",
       "      <td>0</td>\n",
       "      <td>no</td>\n",
       "      <td>northwest</td>\n",
       "      <td>3866.85520</td>\n",
       "    </tr>\n",
       "    <tr>\n",
       "      <th>...</th>\n",
       "      <td>...</td>\n",
       "      <td>...</td>\n",
       "      <td>...</td>\n",
       "      <td>...</td>\n",
       "      <td>...</td>\n",
       "      <td>...</td>\n",
       "      <td>...</td>\n",
       "    </tr>\n",
       "    <tr>\n",
       "      <th>1333</th>\n",
       "      <td>50</td>\n",
       "      <td>male</td>\n",
       "      <td>30.970</td>\n",
       "      <td>3</td>\n",
       "      <td>no</td>\n",
       "      <td>northwest</td>\n",
       "      <td>10600.54830</td>\n",
       "    </tr>\n",
       "    <tr>\n",
       "      <th>1334</th>\n",
       "      <td>18</td>\n",
       "      <td>female</td>\n",
       "      <td>31.920</td>\n",
       "      <td>0</td>\n",
       "      <td>no</td>\n",
       "      <td>northeast</td>\n",
       "      <td>2205.98080</td>\n",
       "    </tr>\n",
       "    <tr>\n",
       "      <th>1335</th>\n",
       "      <td>18</td>\n",
       "      <td>female</td>\n",
       "      <td>36.850</td>\n",
       "      <td>0</td>\n",
       "      <td>no</td>\n",
       "      <td>southeast</td>\n",
       "      <td>1629.83350</td>\n",
       "    </tr>\n",
       "    <tr>\n",
       "      <th>1336</th>\n",
       "      <td>21</td>\n",
       "      <td>female</td>\n",
       "      <td>25.800</td>\n",
       "      <td>0</td>\n",
       "      <td>no</td>\n",
       "      <td>southwest</td>\n",
       "      <td>2007.94500</td>\n",
       "    </tr>\n",
       "    <tr>\n",
       "      <th>1337</th>\n",
       "      <td>61</td>\n",
       "      <td>female</td>\n",
       "      <td>29.070</td>\n",
       "      <td>0</td>\n",
       "      <td>yes</td>\n",
       "      <td>northwest</td>\n",
       "      <td>29141.36030</td>\n",
       "    </tr>\n",
       "  </tbody>\n",
       "</table>\n",
       "<p>1338 rows × 7 columns</p>\n",
       "</div>"
      ],
      "text/plain": [
       "      age     sex     bmi  children smoker     region      charges\n",
       "0      19  female  27.900         0    yes  southwest  16884.92400\n",
       "1      18    male  33.770         1     no  southeast   1725.55230\n",
       "2      28    male  33.000         3     no  southeast   4449.46200\n",
       "3      33    male  22.705         0     no  northwest  21984.47061\n",
       "4      32    male  28.880         0     no  northwest   3866.85520\n",
       "...   ...     ...     ...       ...    ...        ...          ...\n",
       "1333   50    male  30.970         3     no  northwest  10600.54830\n",
       "1334   18  female  31.920         0     no  northeast   2205.98080\n",
       "1335   18  female  36.850         0     no  southeast   1629.83350\n",
       "1336   21  female  25.800         0     no  southwest   2007.94500\n",
       "1337   61  female  29.070         0    yes  northwest  29141.36030\n",
       "\n",
       "[1338 rows x 7 columns]"
      ]
     },
     "execution_count": 6,
     "metadata": {},
     "output_type": "execute_result"
    }
   ],
   "source": [
    "dataset = pd.read_csv(\"insurance.csv\")\n",
    "dataset"
   ]
  },
  {
   "cell_type": "markdown",
   "metadata": {},
   "source": [
    "# Divide the data into input/feature and output/target."
   ]
  },
  {
   "cell_type": "code",
   "execution_count": 7,
   "metadata": {},
   "outputs": [],
   "source": [
    "input_data = dataset.iloc[:, : -1].values\n",
    "output_data = dataset.iloc[:, 6].values"
   ]
  },
  {
   "cell_type": "markdown",
   "metadata": {},
   "source": [
    "# Preprocessing on data.\n",
    "In this dataset, we don't have null values but (sex, smoker, region) columns need to be encoded as we will work with equations."
   ]
  },
  {
   "cell_type": "code",
   "execution_count": 8,
   "metadata": {},
   "outputs": [],
   "source": [
    "encoder = LabelEncoder()\n",
    "input_data[:, 1] = encoder.fit_transform(input_data[:, 1])\n",
    "input_data[:, 4] = encoder.fit_transform(input_data[:, 4])\n",
    "input_data[:, 5] = encoder.fit_transform(input_data[:, 5])"
   ]
  },
  {
   "cell_type": "markdown",
   "metadata": {},
   "source": [
    "# Split the data using train_test_split().\n",
    "We will split the data into train data to fit & train the model, and test data to test the model.  \n",
    "The test data will take 20% of the whole data."
   ]
  },
  {
   "cell_type": "code",
   "execution_count": 9,
   "metadata": {},
   "outputs": [],
   "source": [
    "x_train, x_test, y_train, y_test = train_test_split(input_data, output_data, test_size= 0.2)"
   ]
  },
  {
   "cell_type": "markdown",
   "metadata": {},
   "source": [
    "#  Write the hypothesis\n",
    "Our hypothesis for this problem will be something like that:  \n",
    "h(x) = $\\theta$<sub>0</sub> + $\\theta$<sub>1</sub> x<sub>1</sub> + $\\theta$<sub>2</sub> x<sub>2</sub> + $\\theta$<sub>3</sub> x<sub>3</sub> + $\\theta$<sub>4</sub> x<sub>4</sub> + $\\theta$<sub>5</sub> x<sub>5</sub> + $\\theta$<sub>6</sub> x<sub>6</sub>  \n",
    "Note: this hypothesis may be written like this:  \n",
    "h(x) = $\\theta$<sup>T</sup> X "
   ]
  },
  {
   "cell_type": "code",
   "execution_count": 10,
   "metadata": {},
   "outputs": [],
   "source": [
    "def hypothesis(theta, features):\n",
    "    hyp = theta[:, 0] + theta[:, 1] * features[:, 0] + theta[:, 2] * features[:, 1] + theta[:, 3] * features[:, 2] + theta[:, 4] * features[:, 3] + theta[:, 5] * features[:, 4] + theta[:, 6] * features[:, 5]\n",
    "    return hyp"
   ]
  },
  {
   "cell_type": "markdown",
   "metadata": {},
   "source": [
    "# Mean Squared Error\n",
    "This is a loss function, corresponding to the expected value of the squared error loss.   \n",
    "![Alt text](quicklatex.com-50d568506216f6ab6402504298c570e2_l3.svg)"
   ]
  },
  {
   "cell_type": "code",
   "execution_count": 11,
   "metadata": {},
   "outputs": [],
   "source": [
    "def meanSquaredError(theta, features, y_actual):\n",
    "    n = len(features)\n",
    "    y_predicted = hypothesis(theta, features)  # Make prediction.\n",
    "    cost = (1 / n) * sum([val**2 for val in (y_actual - y_predicted)])\n",
    "    print('The accuracy is:', cost)"
   ]
  },
  {
   "cell_type": "markdown",
   "metadata": {},
   "source": [
    "# Gradient Descent\n",
    "It is an algorithm to find the minimum of our loss function( Mean Squared Error ), and get the best values of $\\theta$ to our hypothesis.  \n",
    "Note: you can change $\\alpha$ ( Learning rate ) and the number of iterations to get the best result in the loss function, which is the minmum value you can get. "
   ]
  },
  {
   "cell_type": "code",
   "execution_count": 12,
   "metadata": {},
   "outputs": [],
   "source": [
    "def gradientDescent(theta, feature):\n",
    "    learning_rate = 0.0001\n",
    "    length = len(feature)\n",
    "    y_predicted = hypothesis(theta, feature)\n",
    "\n",
    "    for i in range(2):\n",
    "        theta[:, 0] = theta[:, 0] - learning_rate * (-(2 / length) * sum(y_train - y_predicted))\n",
    "        theta[:, 1] = theta[:, 1] - learning_rate * (-(2 / length) * sum(x_train[:, 0] * (y_train - y_predicted)))\n",
    "        theta[:, 2] = theta[:, 2] - learning_rate * (-(2 / length) * sum(x_train[:, 1] * (y_train - y_predicted)))\n",
    "        theta[:, 3] = theta[:, 3] - learning_rate * (-(2 / length) * sum(x_train[:, 2] * (y_train - y_predicted)))\n",
    "        theta[:, 4] = theta[:, 4] - learning_rate * (-(2 / length) * sum(x_train[:, 3] * (y_train - y_predicted)))\n",
    "        theta[:, 5] = theta[:, 5] - learning_rate * (-(2 / length) * sum(x_train[:, 4] * (y_train - y_predicted)))\n",
    "        theta[:, 6] = theta[:, 6] - learning_rate * (-(2 / length) * sum(x_train[:, 5] * (y_train - y_predicted)))\n",
    "        meanSquaredError(theta, feature, y_train)\n",
    "    return theta"
   ]
  },
  {
   "cell_type": "markdown",
   "metadata": {},
   "source": [
    "# Prediction\n",
    "Make an actual prediction.  \n",
    "Here we will initialize some parameters, and then run our gradient descent to get our best parameters.  \n",
    "At last, we will run meanSquaredError method to get the accuracy of the predicted data."
   ]
  },
  {
   "cell_type": "code",
   "execution_count": 13,
   "metadata": {},
   "outputs": [
    {
     "name": "stdout",
     "output_type": "stream",
     "text": [
      "The accuracy is: 175552283.02094334\n",
      "The accuracy is: 132752145.50033832\n",
      "The accuracy is: 125183056.21600938\n"
     ]
    }
   ],
   "source": [
    "ini_parameters = np.array([[0, 0, 0, 0, 0, 0, 0]])\n",
    "\n",
    "parameters = gradientDescent(ini_parameters, x_train)\n",
    "\n",
    "meanSquaredError(parameters, x_test, y_test)\n"
   ]
  }
 ],
 "metadata": {
  "kernelspec": {
   "display_name": "Python 3",
   "language": "python",
   "name": "python3"
  },
  "language_info": {
   "codemirror_mode": {
    "name": "ipython",
    "version": 3
   },
   "file_extension": ".py",
   "mimetype": "text/x-python",
   "name": "python",
   "nbconvert_exporter": "python",
   "pygments_lexer": "ipython3",
   "version": "3.8.3"
  }
 },
 "nbformat": 4,
 "nbformat_minor": 4
}
